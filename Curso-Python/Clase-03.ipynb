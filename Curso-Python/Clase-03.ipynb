{
 "cells": [
  {
   "cell_type": "markdown",
   "metadata": {},
   "source": [
    "# Clase 3"
   ]
  },
  {
   "cell_type": "markdown",
   "metadata": {},
   "source": [
    "# ciclo while"
   ]
  },
  {
   "cell_type": "code",
   "execution_count": 20,
   "metadata": {},
   "outputs": [
    {
     "name": "stdout",
     "output_type": "stream",
     "text": [
      "se cumple la condicion\n"
     ]
    }
   ],
   "source": [
    "if True:\n",
    "    print('se cumple la condicion')"
   ]
  },
  {
   "cell_type": "code",
   "execution_count": 21,
   "metadata": {},
   "outputs": [
    {
     "name": "stdout",
     "output_type": "stream",
     "text": [
      "Se cumple la condicion\n",
      "Se cumple la condicion\n",
      "Se cumple la condicion\n",
      "Se cumple la condicion\n",
      "Se cumple la condicion\n",
      "Se cumple la condicion\n"
     ]
    }
   ],
   "source": [
    "contador = 0\n",
    "while contador <= 5:\n",
    "    print('Se cumple la condicion')\n",
    "    contador = contador + 1"
   ]
  },
  {
   "cell_type": "code",
   "execution_count": 9,
   "metadata": {},
   "outputs": [
    {
     "name": "stdout",
     "output_type": "stream",
     "text": [
      "Usuario registrado\n"
     ]
    }
   ],
   "source": [
    "auth=0\n",
    "while auth==0:\n",
    "    username = input(\"¿Cual es tu usuario\")\n",
    "    password = input(\"Dame una contraseña\")\n",
    "\n",
    "    if len(password) < 6:\n",
    "        print(\"Necesitas crear una contraseña de mas de 6 digitos\")\n",
    "    else:\n",
    "        print(\"Usuario registrado\")\n",
    "        \n",
    "    auth=1"
   ]
  },
  {
   "cell_type": "markdown",
   "metadata": {},
   "source": [
    "# ciclo for"
   ]
  },
  {
   "cell_type": "code",
   "execution_count": 4,
   "metadata": {},
   "outputs": [
    {
     "name": "stdout",
     "output_type": "stream",
     "text": [
      "Hola mundo\n",
      "Hola mundo\n",
      "Hola mundo\n",
      "Hola mundo\n",
      "Hola mundo\n",
      "Hola mundo\n",
      "Hola mundo\n",
      "Hola mundo\n",
      "Hola mundo\n",
      "Hola mundo\n"
     ]
    }
   ],
   "source": [
    "for indice in range(10):\n",
    "    print(\"Hola mundo\")"
   ]
  },
  {
   "cell_type": "code",
   "execution_count": 5,
   "metadata": {},
   "outputs": [
    {
     "name": "stdout",
     "output_type": "stream",
     "text": [
      "0\n",
      "1\n",
      "2\n",
      "3\n",
      "4\n",
      "5\n",
      "6\n",
      "7\n",
      "8\n",
      "9\n"
     ]
    }
   ],
   "source": [
    "for i in range(10):\n",
    "    print(i)"
   ]
  },
  {
   "cell_type": "code",
   "execution_count": 6,
   "metadata": {},
   "outputs": [
    {
     "name": "stdout",
     "output_type": "stream",
     "text": [
      "5\n",
      "6\n",
      "7\n",
      "8\n",
      "9\n"
     ]
    }
   ],
   "source": [
    "for i in range(5,10):\n",
    "    print(i)"
   ]
  },
  {
   "cell_type": "code",
   "execution_count": 7,
   "metadata": {},
   "outputs": [
    {
     "name": "stdout",
     "output_type": "stream",
     "text": [
      "5\n",
      "7\n",
      "9\n",
      "11\n",
      "13\n",
      "15\n",
      "17\n",
      "19\n",
      "21\n",
      "23\n"
     ]
    }
   ],
   "source": [
    "for i in range(5,25,2):\n",
    "    print(i)"
   ]
  },
  {
   "cell_type": "code",
   "execution_count": 8,
   "metadata": {},
   "outputs": [
    {
     "name": "stdout",
     "output_type": "stream",
     "text": [
      "0\n",
      "1\n",
      "2\n",
      "3\n",
      "4\n"
     ]
    }
   ],
   "source": [
    "n = int(input(\"¿Cuantas veces se repetira?\"))\n",
    "for i in range(n):\n",
    "    print(i)"
   ]
  },
  {
   "cell_type": "markdown",
   "metadata": {},
   "source": [
    "# identacion"
   ]
  },
  {
   "cell_type": "code",
   "execution_count": 12,
   "metadata": {},
   "outputs": [
    {
     "name": "stdout",
     "output_type": "stream",
     "text": [
      "Hola\n",
      "esto\n",
      "pertenece\n",
      "al for\n",
      "Hola\n",
      "esto\n",
      "pertenece\n",
      "al for\n",
      "Hola\n",
      "esto\n",
      "pertenece\n",
      "al for\n",
      "Esto ya no\n"
     ]
    }
   ],
   "source": [
    "for i in range(3):\n",
    "    print(\"Hola\")\n",
    "    print(\"esto\")\n",
    "    print(\"pertenece\")\n",
    "    print(\"al for\")\n",
    "print(\"Esto ya no\")"
   ]
  },
  {
   "cell_type": "markdown",
   "metadata": {},
   "source": [
    "# for y listas"
   ]
  },
  {
   "cell_type": "code",
   "execution_count": 10,
   "metadata": {},
   "outputs": [
    {
     "name": "stdout",
     "output_type": "stream",
     "text": [
      "[0]\n",
      "[0, 1]\n",
      "[0, 1, 4]\n",
      "[0, 1, 4, 9]\n",
      "[0, 1, 4, 9, 16]\n",
      "[0, 1, 4, 9, 16, 25]\n",
      "[0, 1, 4, 9, 16, 25, 36]\n",
      "[0, 1, 4, 9, 16, 25, 36, 49]\n",
      "[0, 1, 4, 9, 16, 25, 36, 49, 64]\n",
      "[0, 1, 4, 9, 16, 25, 36, 49, 64, 81]\n"
     ]
    }
   ],
   "source": [
    "numeros_cuadrados = []\n",
    "for i in range(10):\n",
    "    numeros_cuadrados.append(i**2)\n",
    "    print(numeros_cuadrados)"
   ]
  },
  {
   "cell_type": "code",
   "execution_count": 17,
   "metadata": {},
   "outputs": [
    {
     "name": "stdout",
     "output_type": "stream",
     "text": [
      "manzana\n",
      "platano\n",
      "pera\n",
      "naranaja\n"
     ]
    }
   ],
   "source": [
    "mis_frutas = [\"manzana\",\"platano\", \"pera\",\"naranaja\"]\n",
    "for i in range(4):\n",
    "    print(mis_frutas[i])"
   ]
  },
  {
   "cell_type": "code",
   "execution_count": 18,
   "metadata": {},
   "outputs": [
    {
     "name": "stdout",
     "output_type": "stream",
     "text": [
      "manzana\n",
      "platano\n",
      "pera\n",
      "naranaja\n"
     ]
    }
   ],
   "source": [
    "for i in range(len(mis_frutas)):\n",
    "    print(mis_frutas[i])"
   ]
  },
  {
   "cell_type": "code",
   "execution_count": 19,
   "metadata": {},
   "outputs": [
    {
     "name": "stdout",
     "output_type": "stream",
     "text": [
      "manzana\n",
      "platano\n",
      "pera\n",
      "naranaja\n"
     ]
    }
   ],
   "source": [
    "for e in mis_frutas:\n",
    "    print(e)"
   ]
  },
  {
   "cell_type": "code",
   "execution_count": 40,
   "metadata": {},
   "outputs": [
    {
     "name": "stdout",
     "output_type": "stream",
     "text": [
      "Tu promedio fue de 10.0 por lo tanto pasas de año\n"
     ]
    }
   ],
   "source": [
    "\n",
    "n = int(input(\"¿Cuantas calificaciones va agregar?\"))\n",
    "Calificaciones = []\n",
    "for i in range(n):\n",
    "    Calificacion= int(input(f\"¿Cual es la {i+1} calificacion?\"))\n",
    "    Calificaciones.append(Calificacion)\n",
    "promedio = sum(Calificaciones) / len(Calificaciones)\n",
    "if promedio > 5:\n",
    "    print(f'Tu promedio fue de {promedio} por lo tanto pasas de año')\n",
    "else:\n",
    "    print(f'Tu promedio fue de {promedio} por lo tanto no pasas de año')"
   ]
  },
  {
   "cell_type": "markdown",
   "metadata": {},
   "source": [
    "# Especificar errores5"
   ]
  },
  {
   "cell_type": "code",
   "execution_count": 34,
   "metadata": {},
   "outputs": [
    {
     "name": "stdout",
     "output_type": "stream",
     "text": [
      "Trataste de dividir entre cero :(\n"
     ]
    }
   ],
   "source": [
    "try:\n",
    "    print(0/0)\n",
    "except ZeroDivisionError:\n",
    "    print(\"Trataste de dividir entre cero :(\")"
   ]
  },
  {
   "cell_type": "code",
   "execution_count": null,
   "metadata": {},
   "outputs": [],
   "source": []
  }
 ],
 "metadata": {
  "kernelspec": {
   "display_name": "Python 3.11.0 64-bit",
   "language": "python",
   "name": "python3"
  },
  "language_info": {
   "codemirror_mode": {
    "name": "ipython",
    "version": 3
   },
   "file_extension": ".py",
   "mimetype": "text/x-python",
   "name": "python",
   "nbconvert_exporter": "python",
   "pygments_lexer": "ipython3",
   "version": "3.11.0 (main, Oct 24 2022, 18:26:48) [MSC v.1933 64 bit (AMD64)]"
  },
  "orig_nbformat": 4,
  "vscode": {
   "interpreter": {
    "hash": "b58d8afad29769750a1e2256a8ad1358e335723359754ebc5cc416c5c1bf1079"
   }
  }
 },
 "nbformat": 4,
 "nbformat_minor": 2
}
